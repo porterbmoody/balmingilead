{
 "cells": [
  {
   "cell_type": "code",
   "execution_count": 1,
   "metadata": {},
   "outputs": [
    {
     "data": {
      "text/html": [
       "<div>\n",
       "<style scoped>\n",
       "    .dataframe tbody tr th:only-of-type {\n",
       "        vertical-align: middle;\n",
       "    }\n",
       "\n",
       "    .dataframe tbody tr th {\n",
       "        vertical-align: top;\n",
       "    }\n",
       "\n",
       "    .dataframe thead th {\n",
       "        text-align: right;\n",
       "    }\n",
       "</style>\n",
       "<table border=\"1\" class=\"dataframe\">\n",
       "  <thead>\n",
       "    <tr style=\"text-align: right;\">\n",
       "      <th></th>\n",
       "      <th>date</th>\n",
       "      <th>time</th>\n",
       "      <th>location</th>\n",
       "    </tr>\n",
       "  </thead>\n",
       "  <tbody>\n",
       "    <tr>\n",
       "      <th>0</th>\n",
       "      <td>1/2/2023</td>\n",
       "      <td>04:00:00</td>\n",
       "      <td>bed</td>\n",
       "    </tr>\n",
       "    <tr>\n",
       "      <th>1</th>\n",
       "      <td>1/4/2023</td>\n",
       "      <td>04:00:00</td>\n",
       "      <td>bed</td>\n",
       "    </tr>\n",
       "    <tr>\n",
       "      <th>2</th>\n",
       "      <td>1/4/2023</td>\n",
       "      <td>04:30:00</td>\n",
       "      <td>bed</td>\n",
       "    </tr>\n",
       "    <tr>\n",
       "      <th>3</th>\n",
       "      <td>1/4/2023</td>\n",
       "      <td>05:30:00</td>\n",
       "      <td>bed</td>\n",
       "    </tr>\n",
       "    <tr>\n",
       "      <th>4</th>\n",
       "      <td>1/5/2023</td>\n",
       "      <td>01:30:00</td>\n",
       "      <td>bed</td>\n",
       "    </tr>\n",
       "    <tr>\n",
       "      <th>5</th>\n",
       "      <td>1/6/2023</td>\n",
       "      <td>08:00:00</td>\n",
       "      <td>bed</td>\n",
       "    </tr>\n",
       "    <tr>\n",
       "      <th>6</th>\n",
       "      <td>1/6/2023</td>\n",
       "      <td>22:00:00</td>\n",
       "      <td>bed</td>\n",
       "    </tr>\n",
       "    <tr>\n",
       "      <th>7</th>\n",
       "      <td>1/9/2023</td>\n",
       "      <td>00:30:00</td>\n",
       "      <td>bed</td>\n",
       "    </tr>\n",
       "    <tr>\n",
       "      <th>8</th>\n",
       "      <td>1/12/2023</td>\n",
       "      <td>01:30:00</td>\n",
       "      <td>bed</td>\n",
       "    </tr>\n",
       "    <tr>\n",
       "      <th>9</th>\n",
       "      <td>1/13/2023</td>\n",
       "      <td>08:00:00</td>\n",
       "      <td>bed</td>\n",
       "    </tr>\n",
       "    <tr>\n",
       "      <th>10</th>\n",
       "      <td>1/13/2023</td>\n",
       "      <td>12:00:00</td>\n",
       "      <td>desk</td>\n",
       "    </tr>\n",
       "    <tr>\n",
       "      <th>11</th>\n",
       "      <td>1/13/2023</td>\n",
       "      <td>22:05:00</td>\n",
       "      <td>bed</td>\n",
       "    </tr>\n",
       "  </tbody>\n",
       "</table>\n",
       "</div>"
      ],
      "text/plain": [
       "         date      time location\n",
       "0    1/2/2023  04:00:00      bed\n",
       "1    1/4/2023  04:00:00      bed\n",
       "2    1/4/2023  04:30:00      bed\n",
       "3    1/4/2023  05:30:00      bed\n",
       "4    1/5/2023  01:30:00      bed\n",
       "5    1/6/2023  08:00:00      bed\n",
       "6    1/6/2023  22:00:00      bed\n",
       "7    1/9/2023  00:30:00      bed\n",
       "8   1/12/2023  01:30:00      bed\n",
       "9   1/13/2023  08:00:00      bed\n",
       "10  1/13/2023  12:00:00     desk\n",
       "11  1/13/2023  22:05:00      bed"
      ]
     },
     "execution_count": 1,
     "metadata": {},
     "output_type": "execute_result"
    }
   ],
   "source": [
    "import pandas as pd\n",
    "import altair as alt\n",
    "data = pd.read_csv(\"random.csv\")\n",
    "# data['time'] = pd.to_datetime(data['time'], format='%I:%M%p').dt.time\n",
    "# data['time'] = data['time'].str.replace(r'[ap]m', '')\n",
    "data['time'] =  pd.to_datetime(data['time'], format='%I:%M%p').dt.time.astype('str')\n",
    "# data['date_time'] = pd.to_datetime(data['date'] + ' ' + data['time'])\n",
    "data\n"
   ]
  },
  {
   "cell_type": "code",
   "execution_count": 2,
   "metadata": {},
   "outputs": [
    {
     "ename": "SchemaValidationError",
     "evalue": "Invalid specification\n\n        altair.vegalite.v4.schema.core.Scale, validating 'additionalProperties'\n\n        Additional properties are not allowed ('tickCount' was unexpected)\n        ",
     "output_type": "error",
     "traceback": [
      "\u001b[1;31m---------------------------------------------------------------------------\u001b[0m",
      "\u001b[1;31mSchemaValidationError\u001b[0m                     Traceback (most recent call last)",
      "Cell \u001b[1;32mIn[2], line 7\u001b[0m\n\u001b[0;32m      1\u001b[0m \u001b[39m# alt.Chart(data, title =\"times i jacked off\").encode(\u001b[39;00m\n\u001b[0;32m      2\u001b[0m \u001b[39m#     alt.X(\"date:T\"), \u001b[39;00m\n\u001b[0;32m      3\u001b[0m \u001b[39m#     alt.Y(\"time\")).mark_point()\u001b[39;00m\n\u001b[0;32m      5\u001b[0m alt\u001b[39m.\u001b[39mChart(data, title \u001b[39m=\u001b[39m\u001b[39m\"\u001b[39m\u001b[39mtimes i brushed teeth\u001b[39m\u001b[39m\"\u001b[39m)\u001b[39m.\u001b[39mencode(\n\u001b[0;32m      6\u001b[0m     alt\u001b[39m.\u001b[39mX(\u001b[39m\"\u001b[39m\u001b[39mdate:T\u001b[39m\u001b[39m\"\u001b[39m), \n\u001b[1;32m----> 7\u001b[0m     alt\u001b[39m.\u001b[39mY(\u001b[39m\"\u001b[39m\u001b[39mtime:N\u001b[39m\u001b[39m\"\u001b[39m, scale\u001b[39m=\u001b[39malt\u001b[39m.\u001b[39;49mScale(tickCount\u001b[39m=\u001b[39;49m\u001b[39m10\u001b[39;49m), sort\u001b[39m=\u001b[39m\u001b[39m'\u001b[39m\u001b[39mdescending\u001b[39m\u001b[39m'\u001b[39m))\u001b[39m.\u001b[39mmark_point()\n",
      "File \u001b[1;32mc:\\Users\\PorterMoody\\AppData\\Local\\Programs\\Python\\Python311\\Lib\\site-packages\\altair\\vegalite\\v4\\schema\\core.py:13244\u001b[0m, in \u001b[0;36mScale.__init__\u001b[1;34m(self, align, base, bins, clamp, constant, domain, domainMax, domainMid, domainMin, exponent, interpolate, nice, padding, paddingInner, paddingOuter, range, rangeMax, rangeMin, reverse, round, scheme, type, zero, **kwds)\u001b[0m\n\u001b[0;32m  13238\u001b[0m \u001b[39mdef\u001b[39;00m \u001b[39m__init__\u001b[39m(\u001b[39mself\u001b[39m, align\u001b[39m=\u001b[39mUndefined, base\u001b[39m=\u001b[39mUndefined, bins\u001b[39m=\u001b[39mUndefined, clamp\u001b[39m=\u001b[39mUndefined,\n\u001b[0;32m  13239\u001b[0m              constant\u001b[39m=\u001b[39mUndefined, domain\u001b[39m=\u001b[39mUndefined, domainMax\u001b[39m=\u001b[39mUndefined, domainMid\u001b[39m=\u001b[39mUndefined,\n\u001b[0;32m  13240\u001b[0m              domainMin\u001b[39m=\u001b[39mUndefined, exponent\u001b[39m=\u001b[39mUndefined, interpolate\u001b[39m=\u001b[39mUndefined, nice\u001b[39m=\u001b[39mUndefined,\n\u001b[0;32m  13241\u001b[0m              padding\u001b[39m=\u001b[39mUndefined, paddingInner\u001b[39m=\u001b[39mUndefined, paddingOuter\u001b[39m=\u001b[39mUndefined, \u001b[39mrange\u001b[39m\u001b[39m=\u001b[39mUndefined,\n\u001b[0;32m  13242\u001b[0m              rangeMax\u001b[39m=\u001b[39mUndefined, rangeMin\u001b[39m=\u001b[39mUndefined, reverse\u001b[39m=\u001b[39mUndefined, \u001b[39mround\u001b[39m\u001b[39m=\u001b[39mUndefined,\n\u001b[0;32m  13243\u001b[0m              scheme\u001b[39m=\u001b[39mUndefined, \u001b[39mtype\u001b[39m\u001b[39m=\u001b[39mUndefined, zero\u001b[39m=\u001b[39mUndefined, \u001b[39m*\u001b[39m\u001b[39m*\u001b[39mkwds):\n\u001b[1;32m> 13244\u001b[0m     \u001b[39msuper\u001b[39;49m(Scale, \u001b[39mself\u001b[39;49m)\u001b[39m.\u001b[39;49m\u001b[39m__init__\u001b[39;49m(align\u001b[39m=\u001b[39;49malign, base\u001b[39m=\u001b[39;49mbase, bins\u001b[39m=\u001b[39;49mbins, clamp\u001b[39m=\u001b[39;49mclamp, constant\u001b[39m=\u001b[39;49mconstant,\n\u001b[0;32m  13245\u001b[0m                                 domain\u001b[39m=\u001b[39;49mdomain, domainMax\u001b[39m=\u001b[39;49mdomainMax, domainMid\u001b[39m=\u001b[39;49mdomainMid,\n\u001b[0;32m  13246\u001b[0m                                 domainMin\u001b[39m=\u001b[39;49mdomainMin, exponent\u001b[39m=\u001b[39;49mexponent, interpolate\u001b[39m=\u001b[39;49minterpolate,\n\u001b[0;32m  13247\u001b[0m                                 nice\u001b[39m=\u001b[39;49mnice, padding\u001b[39m=\u001b[39;49mpadding, paddingInner\u001b[39m=\u001b[39;49mpaddingInner,\n\u001b[0;32m  13248\u001b[0m                                 paddingOuter\u001b[39m=\u001b[39;49mpaddingOuter, \u001b[39mrange\u001b[39;49m\u001b[39m=\u001b[39;49m\u001b[39mrange\u001b[39;49m, rangeMax\u001b[39m=\u001b[39;49mrangeMax,\n\u001b[0;32m  13249\u001b[0m                                 rangeMin\u001b[39m=\u001b[39;49mrangeMin, reverse\u001b[39m=\u001b[39;49mreverse, \u001b[39mround\u001b[39;49m\u001b[39m=\u001b[39;49m\u001b[39mround\u001b[39;49m, scheme\u001b[39m=\u001b[39;49mscheme,\n\u001b[0;32m  13250\u001b[0m                                 \u001b[39mtype\u001b[39;49m\u001b[39m=\u001b[39;49m\u001b[39mtype\u001b[39;49m, zero\u001b[39m=\u001b[39;49mzero, \u001b[39m*\u001b[39;49m\u001b[39m*\u001b[39;49mkwds)\n",
      "File \u001b[1;32mc:\\Users\\PorterMoody\\AppData\\Local\\Programs\\Python\\Python311\\Lib\\site-packages\\altair\\utils\\schemapi.py:177\u001b[0m, in \u001b[0;36mSchemaBase.__init__\u001b[1;34m(self, *args, **kwds)\u001b[0m\n\u001b[0;32m    174\u001b[0m \u001b[39mobject\u001b[39m\u001b[39m.\u001b[39m\u001b[39m__setattr__\u001b[39m(\u001b[39mself\u001b[39m, \u001b[39m\"\u001b[39m\u001b[39m_kwds\u001b[39m\u001b[39m\"\u001b[39m, kwds)\n\u001b[0;32m    176\u001b[0m \u001b[39mif\u001b[39;00m DEBUG_MODE \u001b[39mand\u001b[39;00m \u001b[39mself\u001b[39m\u001b[39m.\u001b[39m_class_is_valid_at_instantiation:\n\u001b[1;32m--> 177\u001b[0m     \u001b[39mself\u001b[39;49m\u001b[39m.\u001b[39;49mto_dict(validate\u001b[39m=\u001b[39;49m\u001b[39mTrue\u001b[39;49;00m)\n",
      "File \u001b[1;32mc:\\Users\\PorterMoody\\AppData\\Local\\Programs\\Python\\Python311\\Lib\\site-packages\\altair\\utils\\schemapi.py:340\u001b[0m, in \u001b[0;36mSchemaBase.to_dict\u001b[1;34m(self, validate, ignore, context)\u001b[0m\n\u001b[0;32m    338\u001b[0m         \u001b[39mself\u001b[39m\u001b[39m.\u001b[39mvalidate(result)\n\u001b[0;32m    339\u001b[0m     \u001b[39mexcept\u001b[39;00m jsonschema\u001b[39m.\u001b[39mValidationError \u001b[39mas\u001b[39;00m err:\n\u001b[1;32m--> 340\u001b[0m         \u001b[39mraise\u001b[39;00m SchemaValidationError(\u001b[39mself\u001b[39m, err)\n\u001b[0;32m    341\u001b[0m \u001b[39mreturn\u001b[39;00m result\n",
      "\u001b[1;31mSchemaValidationError\u001b[0m: Invalid specification\n\n        altair.vegalite.v4.schema.core.Scale, validating 'additionalProperties'\n\n        Additional properties are not allowed ('tickCount' was unexpected)\n        "
     ]
    }
   ],
   "source": [
    "# alt.Chart(data, title =\"times i jacked off\").encode(\n",
    "#     alt.X(\"date:T\"), \n",
    "#     alt.Y(\"time\")).mark_point()\n",
    "\n",
    "alt.Chart(data, title =\"times i brushed teeth\").encode(\n",
    "    alt.X(\"date:T\"), \n",
    "    alt.Y(\"time:N\", scale=alt.Scale(tickCount=10), sort='descending')).mark_point()\n",
    "\n"
   ]
  },
  {
   "cell_type": "code",
   "execution_count": null,
   "metadata": {},
   "outputs": [],
   "source": [
    "\n",
    "\n"
   ]
  }
 ],
 "metadata": {
  "kernelspec": {
   "display_name": "Python 3",
   "language": "python",
   "name": "python3"
  },
  "language_info": {
   "codemirror_mode": {
    "name": "ipython",
    "version": 3
   },
   "file_extension": ".py",
   "mimetype": "text/x-python",
   "name": "python",
   "nbconvert_exporter": "python",
   "pygments_lexer": "ipython3",
   "version": "3.11.1 (tags/v3.11.1:a7a450f, Dec  6 2022, 19:58:39) [MSC v.1934 64 bit (AMD64)]"
  },
  "orig_nbformat": 4,
  "vscode": {
   "interpreter": {
    "hash": "671309881c71d7d10268f20eb2b6c11f185275013da6623fc8b401dc83f54e5a"
   }
  }
 },
 "nbformat": 4,
 "nbformat_minor": 2
}
